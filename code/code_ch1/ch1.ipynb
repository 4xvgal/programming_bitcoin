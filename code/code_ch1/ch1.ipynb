{
 "cells": [
  {
   "cell_type": "code",
   "execution_count": 9,
   "metadata": {},
   "outputs": [],
   "source": [
    "#ecc\n",
    "\n",
    "class FieldElement:\n",
    "    def __init__(self, num, prime): # 객체 초기화, num과 prime을 인수로 받은 후 num 값이 경곗값을 포함하여 0과 prime-1 값 사이에 있는지확인\n",
    "        if num >= prime or num < 0:\n",
    "            error = 'Num {} not in field range 0 to {}'.format(\n",
    "                num, prime - 1)\n",
    "            raise ValueError(error)\n",
    "        self.num = num\n",
    "        self.prime = prime\n",
    "\n",
    "    def __repr__(self): # 객체를 문자열로 변환 \n",
    "        return 'FieldElement_{}({})'.format(self.prime, self.num)\n",
    "    def __eq__(self, other): # FieldElement 클래스의 구 개체가 같은지 검사. 같으면 True, 다르면 False 반환\n",
    "        if other is None:\n",
    "            return False\n",
    "        return self.num == other.num and self.prime == other.prime\n",
    "    \n",
    "    def __ne__(self, other):\n",
    "        return not (self == other) # __eq__의 반대 결과를 반환\n",
    "    \n",
    "    # 덧셈과 뺄셈 연산자 오버로딩\n",
    "    def __add__(self, other): # 두 객체를 더하는 메서드 ( 유한체의 덧셈)\n",
    "        if self.prime != other.prime:\n",
    "            raise TypeError('Cannot add two numbers in different Fields') \n",
    "        num = (self.num + other.num) % self.prime\n",
    "        return self.__class__(num, self.prime)\n",
    "\n",
    "    def __sub__ (self,other): #두 객체를 빼는 메서드 (유한체 뺄셈)\n",
    "        if self.prime != other.prime:\n",
    "            raise TypeError('Cannot subtract two numbers in different Fields')\n",
    "        num = (self.num - other.num) % self.prime\n",
    "        return self.__class__(num, self.prime)\n",
    "    \n",
    "    # 곱셈 연산자 오버로딩 \n",
    "    def __mul__ (self,other):\n",
    "        if self.prime != other.prime: #만약 prime이 다르면 유한체 범위가 다르다 출력\n",
    "            raise TypeError('Cannot multiply two numbers in different Fields')\n",
    "        num = (self.num * other.num) % self.prime # 두 객체의 숫자를 곱하고 위수로 나눈 나머지 저장\n",
    "        return self.__class__(num,self.prime)\n",
    "    \n",
    "    def __pow__(self, exponent):\n",
    "        num = pow(self.num, exponent, self.prime) \n",
    "        return self.__class__(num,self.prime) \n",
    "\n",
    "    "
   ]
  },
  {
   "cell_type": "code",
   "execution_count": 10,
   "metadata": {},
   "outputs": [
    {
     "name": "stdout",
     "output_type": "stream",
     "text": [
      "False\n",
      "True\n"
     ]
    }
   ],
   "source": [
    "\n",
    "a = FieldElement(7, 13)\n",
    "b = FieldElement(6, 13)\n",
    "print(a == b)\n",
    "\n",
    "print (a == a)"
   ]
  },
  {
   "cell_type": "code",
   "execution_count": 11,
   "metadata": {},
   "outputs": [
    {
     "name": "stdout",
     "output_type": "stream",
     "text": [
      "True\n",
      "True\n"
     ]
    }
   ],
   "source": [
    "#testing add and sub\n",
    "\n",
    "a = FieldElement(7, 13)\n",
    "b = FieldElement(12, 13)\n",
    "\n",
    "c = FieldElement(6, 13)\n",
    "\n",
    "\n",
    "print(a+b == c) # True\n",
    "\n",
    "print(a-b == FieldElement(8, 13))\n"
   ]
  },
  {
   "cell_type": "code",
   "execution_count": 12,
   "metadata": {},
   "outputs": [
    {
     "name": "stdout",
     "output_type": "stream",
     "text": [
      "77^49 mod 97: 20\n",
      "Final result (127 * f * 77^49 mod 97): 18\n"
     ]
    }
   ],
   "source": [
    "def power_mod(base, exp, mod):\n",
    "    \"\"\"Efficient modular exponentiation.\"\"\"\n",
    "    result = 1\n",
    "    base = base % mod  # Ensure base is within mod\n",
    "    while exp > 0:\n",
    "        if exp % 2 == 1:  # If exponent is odd\n",
    "            result = (result * base) % mod\n",
    "        exp = exp // 2\n",
    "        base = (base * base) % mod  # Square the base\n",
    "    return result\n",
    "\n",
    "# Variables\n",
    "p = 97  # Field modulus (Finite field F97)\n",
    "f = 1   # Example value of f (adjust as needed)\n",
    "base = 77\n",
    "exp = 49\n",
    "\n",
    "# Calculate 77^49 mod 97\n",
    "result = power_mod(base, exp, p)\n",
    "\n",
    "# Calculate 127 * f * (77^49 mod 97) mod 97\n",
    "final_result = (127 * f * result) % p\n",
    "\n",
    "print(\"77^49 mod 97:\", result)\n",
    "print(\"Final result (127 * f * 77^49 mod 97):\", final_result)"
   ]
  },
  {
   "cell_type": "code",
   "execution_count": 13,
   "metadata": {},
   "outputs": [
    {
     "name": "stdout",
     "output_type": "stream",
     "text": [
      "<class '__main__.FieldElement'>\n",
      "<class '__main__.FieldElement'>\n",
      "True\n"
     ]
    }
   ],
   "source": [
    "#testing multiply method\n",
    "\n",
    "a = FieldElement(3,13)\n",
    "b = FieldElement(12,13)\n",
    "c = FieldElement(10,13)\n",
    "\n",
    "print(type(a))\n",
    "print(type(b))\n",
    "print(a*b == c) # (3*12) % 13 =10\n"
   ]
  },
  {
   "cell_type": "code",
   "execution_count": 15,
   "metadata": {},
   "outputs": [
    {
     "name": "stdout",
     "output_type": "stream",
     "text": [
      "FieldElement_19(15)\n"
     ]
    }
   ],
   "source": [
    "#testing pow method\n",
    "\n",
    "a= FieldElement(2,19)\n",
    "\n",
    "print(a**11) # 2^11 % 19"
   ]
  }
 ],
 "metadata": {
  "kernelspec": {
   "display_name": "Python 3",
   "language": "python",
   "name": "python3"
  },
  "language_info": {
   "codemirror_mode": {
    "name": "ipython",
    "version": 3
   },
   "file_extension": ".py",
   "mimetype": "text/x-python",
   "name": "python",
   "nbconvert_exporter": "python",
   "pygments_lexer": "ipython3",
   "version": "3.11.2"
  }
 },
 "nbformat": 4,
 "nbformat_minor": 2
}
