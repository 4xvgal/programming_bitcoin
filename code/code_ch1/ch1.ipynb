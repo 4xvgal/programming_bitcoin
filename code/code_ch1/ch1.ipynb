{
 "cells": [
  {
   "cell_type": "code",
   "execution_count": 4,
   "metadata": {},
   "outputs": [],
   "source": [
    "#ecc\n",
    "\n",
    "class FieldElement:\n",
    "    def __init__(self, num, prime): # 객체 초기화, num과 prime을 인수로 받은 후 num 값이 경곗값을 포함하여 0과 prime-1 값 사이에 있는지확인\n",
    "        if num >= prime or num < 0:\n",
    "            error = 'Num {} not in field range 0 to {}'.format(\n",
    "                num, prime - 1)\n",
    "            raise ValueError(error)\n",
    "        self.num = num\n",
    "        self.prime = prime\n",
    "\n",
    "    def __repr__(self): # 객체를 문자열로 변환 \n",
    "        return 'FieldElement_{}({})'.format(self.prime, self.num)\n",
    "    def __eq__(self, other): # FieldElement 클래스의 구 개체가 같은지 검사. 같으면 True, 다르면 False 반환\n",
    "        if other is None:\n",
    "            return False\n",
    "        return self.num == other.num and self.prime == other.prime\n",
    "    \n",
    "    def __ne__(self, other):\n",
    "        return not (self == other) # __eq__의 반대 결과를 반환\n",
    "    \n",
    "    # 덧셈과 뺄셈 연산자 오버로딩\n",
    "    def __add__(self, other): # 두 객체를 더하는 메서드 ( 유한체의 덧셈)\n",
    "        if self.prime != other.prime:\n",
    "            raise TypeError('Cannot add two numbers in different Fields') \n",
    "        num = (self.num + other.num) % self.prime\n",
    "        return self.__class__(num, self.prime)\n",
    "\n",
    "    def __sub__ (self,other):\n",
    "        if self.prime != other.prime:\n",
    "            raise TypeError('Cannot subtract two numbers in different Fields')\n",
    "        num = (self.num - other.num) % self.prime\n",
    "        return self.__class__(num, self.prime)"
   ]
  },
  {
   "cell_type": "code",
   "execution_count": 5,
   "metadata": {},
   "outputs": [
    {
     "name": "stdout",
     "output_type": "stream",
     "text": [
      "False\n",
      "True\n"
     ]
    }
   ],
   "source": [
    "\n",
    "a = FieldElement(7, 13)\n",
    "b = FieldElement(6, 13)\n",
    "print(a == b)\n",
    "\n",
    "print (a == a)"
   ]
  },
  {
   "cell_type": "code",
   "execution_count": null,
   "metadata": {},
   "outputs": [],
   "source": []
  },
  {
   "cell_type": "code",
   "execution_count": 23,
   "metadata": {},
   "outputs": [
    {
     "name": "stdout",
     "output_type": "stream",
     "text": [
      "True\n",
      "True\n"
     ]
    }
   ],
   "source": [
    "#testing add and sub\n",
    "\n",
    "a = FieldElement(7, 13)\n",
    "b = FieldElement(12, 13)\n",
    "\n",
    "c = FieldElement(6, 13)\n",
    "\n",
    "\n",
    "print(a+b == c) # True\n",
    "\n",
    "print(a-b == FieldElement(8, 13))\n"
   ]
  }
 ],
 "metadata": {
  "kernelspec": {
   "display_name": "Python 3",
   "language": "python",
   "name": "python3"
  },
  "language_info": {
   "codemirror_mode": {
    "name": "ipython",
    "version": 3
   },
   "file_extension": ".py",
   "mimetype": "text/x-python",
   "name": "python",
   "nbconvert_exporter": "python",
   "pygments_lexer": "ipython3",
   "version": "3.11.2"
  }
 },
 "nbformat": 4,
 "nbformat_minor": 2
}
